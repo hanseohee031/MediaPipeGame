{
 "cells": [
  {
   "cell_type": "code",
   "execution_count": 2,
   "id": "255847da-cce6-4868-ab13-f12060cd57d3",
   "metadata": {
    "tags": []
   },
   "outputs": [],
   "source": [
    "#보자기\n",
    "import cv2 as cv\n",
    "import mediapipe as mp\n",
    "\n",
    "#추가한 코드 \n",
    "def paper(hand_landmarks):\n",
    "    landmarks = hand_landmarks.landmark\n",
    "    thumb_tip = landmarks[mp_hand.HandLandmark.THUMB_TIP]\n",
    "    index_finger_tip = landmarks[mp_hand.HandLandmark.INDEX_FINGER_TIP]\n",
    "    middle_finger_tip = landmarks[mp_hand.HandLandmark.MIDDLE_FINGER_TIP]\n",
    "    ring_finger_tip = landmarks[mp_hand.HandLandmark.RING_FINGER_TIP]\n",
    "    pinky_tip = landmarks[mp_hand.HandLandmark.PINKY_TIP]\n",
    "\n",
    "    thumb_mcp = landmarks[mp_hand.HandLandmark.THUMB_MCP]\n",
    "    index_finger_mcp = landmarks[mp_hand.HandLandmark.INDEX_FINGER_MCP]\n",
    "    middle_finger_mcp = landmarks[mp_hand.HandLandmark.MIDDLE_FINGER_MCP]\n",
    "    ring_finger_mcp = landmarks[mp_hand.HandLandmark.RING_FINGER_MCP]\n",
    "    pinky_mcp = landmarks[mp_hand.HandLandmark.PINKY_MCP]\n",
    "\n",
    "    return thumb_tip.y < thumb_mcp.y and index_finger_tip.y < index_finger_mcp.y and middle_finger_tip.y < middle_finger_mcp.y and ring_finger_tip.y < ring_finger_mcp.y and pinky_tip.y < pinky_mcp.y\n",
    "\n",
    "mp_hand = mp.solutions.hands\n",
    "mp_drawing = mp.solutions.drawing_utils\n",
    "mp_styles = mp.solutions.drawing_styles\n",
    "\n",
    "hand = mp_hand.Hands(max_num_hands=2, static_image_mode=False, min_detection_confidence=0.5, min_tracking_confidence=0.5)\n",
    "cap = cv.VideoCapture(0, cv.CAP_DSHOW)\n",
    "\n",
    "while True:\n",
    "    ret, frame = cap.read()\n",
    "    if not ret:\n",
    "        print(\"Failed to capture frame. Exiting.\")\n",
    "        break\n",
    "\n",
    "    frame_rgb = cv.cvtColor(frame, cv.COLOR_BGR2RGB)\n",
    "    res = hand.process(frame_rgb)\n",
    "\n",
    "    if res.multi_hand_landmarks:\n",
    "        for landmarks in res.multi_hand_landmarks:\n",
    "            mp_drawing.draw_landmarks(frame, landmarks, mp_hand.HAND_CONNECTIONS, \n",
    "                                      mp_styles.get_default_hand_landmarks_style(), \n",
    "                                      mp_styles.get_default_hand_connections_style())\n",
    "            \n",
    "            #추가한 코드\n",
    "            if paper(landmarks):\n",
    "                cv.putText(frame, 'Paper', (10, 50), cv.FONT_HERSHEY_SIMPLEX, 1, (0, 255, 0), 2, cv.LINE_AA)\n",
    "                \n",
    "    cv.imshow(\"MediaPipe Hands\", frame)\n",
    "    \n",
    "    if cv.waitKey(5) == ord('q'):\n",
    "        break\n",
    "\n",
    "cap.release()\n",
    "cv.destroyAllWindows()"
   ]
  },
  {
   "cell_type": "code",
   "execution_count": null,
   "id": "a695898e-9374-45ed-b127-b2e1a5c06c6d",
   "metadata": {},
   "outputs": [],
   "source": []
  }
 ],
 "metadata": {
  "kernelspec": {
   "display_name": "Python 3 (ipykernel)",
   "language": "python",
   "name": "python3"
  },
  "language_info": {
   "codemirror_mode": {
    "name": "ipython",
    "version": 3
   },
   "file_extension": ".py",
   "mimetype": "text/x-python",
   "name": "python",
   "nbconvert_exporter": "python",
   "pygments_lexer": "ipython3",
   "version": "3.11.4"
  }
 },
 "nbformat": 4,
 "nbformat_minor": 5
}
